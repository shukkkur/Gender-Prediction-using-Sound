{
  "nbformat": 4,
  "nbformat_minor": 0,
  "metadata": {
    "colab": {
      "name": "notebook.ipynb",
      "provenance": [],
      "collapsed_sections": [],
      "authorship_tag": "ABX9TyNuLpzHoBO0zo+BNZL6o3jx",
      "include_colab_link": true
    },
    "kernelspec": {
      "name": "python3",
      "display_name": "Python 3"
    },
    "language_info": {
      "name": "python"
    }
  },
  "cells": [
    {
      "cell_type": "markdown",
      "metadata": {
        "id": "view-in-github",
        "colab_type": "text"
      },
      "source": [
        "<a href=\"https://colab.research.google.com/github/shukkkur/Gender-Prediction-using-Sound/blob/main/notebook.ipynb\" target=\"_parent\"><img src=\"https://colab.research.google.com/assets/colab-badge.svg\" alt=\"Open In Colab\"/></a>"
      ]
    },
    {
      "cell_type": "code",
      "metadata": {
        "id": "4eevw9uCvz0X"
      },
      "source": [
        "import fuzzy\n",
        "import pandas as pd\n",
        "import numpy as np\n",
        "import matplotlib.pyplot as plt\n",
        "%matplotlib inline"
      ],
      "execution_count": 18,
      "outputs": []
    },
    {
      "cell_type": "markdown",
      "metadata": {
        "id": "e_LBy7XwwXHE"
      },
      "source": [
        "<h3>1.</h3>"
      ]
    },
    {
      "cell_type": "code",
      "metadata": {
        "colab": {
          "base_uri": "https://localhost:8080/"
        },
        "id": "PJyc1DsfwIm5",
        "outputId": "aaa3af70-f748-4ad5-bcb5-f9f3a5a2b664"
      },
      "source": [
        "# Exploring the output of fuzzy.nysiis\n",
        "print(fuzzy.nysiis('gray'))\n",
        "\n",
        "# Testing equivalence of similar sounding words\n",
        "fuzzy.nysiis('colour') == fuzzy.nysiis('color')"
      ],
      "execution_count": 7,
      "outputs": [
        {
          "output_type": "stream",
          "text": [
            "GRY\n"
          ],
          "name": "stdout"
        },
        {
          "output_type": "execute_result",
          "data": {
            "text/plain": [
              "True"
            ]
          },
          "metadata": {
            "tags": []
          },
          "execution_count": 7
        }
      ]
    },
    {
      "cell_type": "markdown",
      "metadata": {
        "id": "k9DsFDs2wlZf"
      },
      "source": [
        "<h3>2.</h3>"
      ]
    },
    {
      "cell_type": "code",
      "metadata": {
        "colab": {
          "base_uri": "https://localhost:8080/",
          "height": 206
        },
        "id": "yID2CW-XwhFW",
        "outputId": "7c339d55-795c-4420-f65b-7a8ac1601f24"
      },
      "source": [
        "# Reading in datasets/nytkids_yearly.csv, which is semicolon delimited.\n",
        "author_df = pd.read_csv('nytkids_yearly.csv', delimiter=';')\n",
        "\n",
        "# Looping through author_df['Author'] to extract the authors first names\n",
        "first_name = []\n",
        "for name in author_df['Author']:\n",
        "    first_name.append(name.split()[0])\n",
        "\n",
        "# Adding first_name as a column to author_df\n",
        "author_df['first_name'] = first_name\n",
        "\n",
        "# Checking out the first few rows of author_df\n",
        "author_df.head()"
      ],
      "execution_count": 10,
      "outputs": [
        {
          "output_type": "execute_result",
          "data": {
            "text/html": [
              "<div>\n",
              "<style scoped>\n",
              "    .dataframe tbody tr th:only-of-type {\n",
              "        vertical-align: middle;\n",
              "    }\n",
              "\n",
              "    .dataframe tbody tr th {\n",
              "        vertical-align: top;\n",
              "    }\n",
              "\n",
              "    .dataframe thead th {\n",
              "        text-align: right;\n",
              "    }\n",
              "</style>\n",
              "<table border=\"1\" class=\"dataframe\">\n",
              "  <thead>\n",
              "    <tr style=\"text-align: right;\">\n",
              "      <th></th>\n",
              "      <th>Year</th>\n",
              "      <th>Book Title</th>\n",
              "      <th>Author</th>\n",
              "      <th>Besteller this year</th>\n",
              "      <th>first_name</th>\n",
              "    </tr>\n",
              "  </thead>\n",
              "  <tbody>\n",
              "    <tr>\n",
              "      <th>0</th>\n",
              "      <td>2017</td>\n",
              "      <td>DRAGONS LOVE TACOS</td>\n",
              "      <td>Adam Rubin</td>\n",
              "      <td>49</td>\n",
              "      <td>Adam</td>\n",
              "    </tr>\n",
              "    <tr>\n",
              "      <th>1</th>\n",
              "      <td>2017</td>\n",
              "      <td>THE WONDERFUL THINGS YOU WILL BE</td>\n",
              "      <td>Emily Winfield Martin</td>\n",
              "      <td>48</td>\n",
              "      <td>Emily</td>\n",
              "    </tr>\n",
              "    <tr>\n",
              "      <th>2</th>\n",
              "      <td>2017</td>\n",
              "      <td>THE DAY THE CRAYONS QUIT</td>\n",
              "      <td>Drew Daywalt</td>\n",
              "      <td>44</td>\n",
              "      <td>Drew</td>\n",
              "    </tr>\n",
              "    <tr>\n",
              "      <th>3</th>\n",
              "      <td>2017</td>\n",
              "      <td>ROSIE REVERE, ENGINEER</td>\n",
              "      <td>Andrea Beaty</td>\n",
              "      <td>38</td>\n",
              "      <td>Andrea</td>\n",
              "    </tr>\n",
              "    <tr>\n",
              "      <th>4</th>\n",
              "      <td>2017</td>\n",
              "      <td>ADA TWIST, SCIENTIST</td>\n",
              "      <td>Andrea Beaty</td>\n",
              "      <td>28</td>\n",
              "      <td>Andrea</td>\n",
              "    </tr>\n",
              "  </tbody>\n",
              "</table>\n",
              "</div>"
            ],
            "text/plain": [
              "   Year                        Book Title  ... Besteller this year  first_name\n",
              "0  2017                DRAGONS LOVE TACOS  ...                  49        Adam\n",
              "1  2017  THE WONDERFUL THINGS YOU WILL BE  ...                  48       Emily\n",
              "2  2017          THE DAY THE CRAYONS QUIT  ...                  44        Drew\n",
              "3  2017            ROSIE REVERE, ENGINEER  ...                  38      Andrea\n",
              "4  2017              ADA TWIST, SCIENTIST  ...                  28      Andrea\n",
              "\n",
              "[5 rows x 5 columns]"
            ]
          },
          "metadata": {
            "tags": []
          },
          "execution_count": 10
        }
      ]
    },
    {
      "cell_type": "markdown",
      "metadata": {
        "id": "cAaN0qk9w9w8"
      },
      "source": [
        "<h3>3.</h3>"
      ]
    },
    {
      "cell_type": "code",
      "metadata": {
        "colab": {
          "base_uri": "https://localhost:8080/",
          "height": 206
        },
        "id": "TnniOixLw_rt",
        "outputId": "80862dd2-0cef-44d0-9b69-85955ea023f9"
      },
      "source": [
        "# Looping through author's first names to create the nysiis (fuzzy) equivalent\n",
        "nysiis_name = []\n",
        "for name in author_df['first_name']:\n",
        "    nysiis_name.append(fuzzy.nysiis(name))\n",
        "\n",
        "# Adding nysiis_name as a column to author_df\n",
        "author_df['nysiis_name'] = nysiis_name\n",
        "\n",
        "# Printing out the difference between unique firstnames and unique nysiis_names:\n",
        "len(np.unique(author_df.first_name))-len(np.unique(author_df.nysiis_name))\n",
        "author_df.head()"
      ],
      "execution_count": 11,
      "outputs": [
        {
          "output_type": "execute_result",
          "data": {
            "text/html": [
              "<div>\n",
              "<style scoped>\n",
              "    .dataframe tbody tr th:only-of-type {\n",
              "        vertical-align: middle;\n",
              "    }\n",
              "\n",
              "    .dataframe tbody tr th {\n",
              "        vertical-align: top;\n",
              "    }\n",
              "\n",
              "    .dataframe thead th {\n",
              "        text-align: right;\n",
              "    }\n",
              "</style>\n",
              "<table border=\"1\" class=\"dataframe\">\n",
              "  <thead>\n",
              "    <tr style=\"text-align: right;\">\n",
              "      <th></th>\n",
              "      <th>Year</th>\n",
              "      <th>Book Title</th>\n",
              "      <th>Author</th>\n",
              "      <th>Besteller this year</th>\n",
              "      <th>first_name</th>\n",
              "      <th>nysiis_name</th>\n",
              "    </tr>\n",
              "  </thead>\n",
              "  <tbody>\n",
              "    <tr>\n",
              "      <th>0</th>\n",
              "      <td>2017</td>\n",
              "      <td>DRAGONS LOVE TACOS</td>\n",
              "      <td>Adam Rubin</td>\n",
              "      <td>49</td>\n",
              "      <td>Adam</td>\n",
              "      <td>ADAN</td>\n",
              "    </tr>\n",
              "    <tr>\n",
              "      <th>1</th>\n",
              "      <td>2017</td>\n",
              "      <td>THE WONDERFUL THINGS YOU WILL BE</td>\n",
              "      <td>Emily Winfield Martin</td>\n",
              "      <td>48</td>\n",
              "      <td>Emily</td>\n",
              "      <td>ENALY</td>\n",
              "    </tr>\n",
              "    <tr>\n",
              "      <th>2</th>\n",
              "      <td>2017</td>\n",
              "      <td>THE DAY THE CRAYONS QUIT</td>\n",
              "      <td>Drew Daywalt</td>\n",
              "      <td>44</td>\n",
              "      <td>Drew</td>\n",
              "      <td>DR</td>\n",
              "    </tr>\n",
              "    <tr>\n",
              "      <th>3</th>\n",
              "      <td>2017</td>\n",
              "      <td>ROSIE REVERE, ENGINEER</td>\n",
              "      <td>Andrea Beaty</td>\n",
              "      <td>38</td>\n",
              "      <td>Andrea</td>\n",
              "      <td>ANDR</td>\n",
              "    </tr>\n",
              "    <tr>\n",
              "      <th>4</th>\n",
              "      <td>2017</td>\n",
              "      <td>ADA TWIST, SCIENTIST</td>\n",
              "      <td>Andrea Beaty</td>\n",
              "      <td>28</td>\n",
              "      <td>Andrea</td>\n",
              "      <td>ANDR</td>\n",
              "    </tr>\n",
              "  </tbody>\n",
              "</table>\n",
              "</div>"
            ],
            "text/plain": [
              "   Year                        Book Title  ... first_name  nysiis_name\n",
              "0  2017                DRAGONS LOVE TACOS  ...       Adam         ADAN\n",
              "1  2017  THE WONDERFUL THINGS YOU WILL BE  ...      Emily        ENALY\n",
              "2  2017          THE DAY THE CRAYONS QUIT  ...       Drew           DR\n",
              "3  2017            ROSIE REVERE, ENGINEER  ...     Andrea         ANDR\n",
              "4  2017              ADA TWIST, SCIENTIST  ...     Andrea         ANDR\n",
              "\n",
              "[5 rows x 6 columns]"
            ]
          },
          "metadata": {
            "tags": []
          },
          "execution_count": 11
        }
      ]
    },
    {
      "cell_type": "markdown",
      "metadata": {
        "id": "IzE0ru5RxGNO"
      },
      "source": [
        "<h3>4.</h3>"
      ]
    },
    {
      "cell_type": "code",
      "metadata": {
        "colab": {
          "base_uri": "https://localhost:8080/",
          "height": 206
        },
        "id": "E1loxgquw887",
        "outputId": "caf88a91-8428-4707-eb2e-61e12beccbbe"
      },
      "source": [
        "# Reading in datasets/babynames_nysiis.csv, which is semicolon delimited.\n",
        "babies_df = pd.read_csv('babynames_nysiis.csv', delimiter=';')\n",
        "\n",
        "# Looping through babies_df to and filling up gender\n",
        "gender = []\n",
        "# ... YOUR CODE FOR TASK 4 ...\n",
        "for i in range(len(babies_df)):\n",
        "    if babies_df.iloc[i]['perc_male'] > babies_df.iloc[i]['perc_female']:\n",
        "        gender.append('M')\n",
        "    elif babies_df.iloc[i]['perc_male'] < babies_df.iloc[i]['perc_female']:\n",
        "        gender.append('F')\n",
        "    else:\n",
        "        gender.append('N')\n",
        "    \n",
        "\n",
        "# Adding a gender column to babies_df\n",
        "babies_df['gender'] = gender\n",
        "\n",
        "# Printing out the first few rows of babies_df\n",
        "babies_df.head()"
      ],
      "execution_count": 14,
      "outputs": [
        {
          "output_type": "execute_result",
          "data": {
            "text/html": [
              "<div>\n",
              "<style scoped>\n",
              "    .dataframe tbody tr th:only-of-type {\n",
              "        vertical-align: middle;\n",
              "    }\n",
              "\n",
              "    .dataframe tbody tr th {\n",
              "        vertical-align: top;\n",
              "    }\n",
              "\n",
              "    .dataframe thead th {\n",
              "        text-align: right;\n",
              "    }\n",
              "</style>\n",
              "<table border=\"1\" class=\"dataframe\">\n",
              "  <thead>\n",
              "    <tr style=\"text-align: right;\">\n",
              "      <th></th>\n",
              "      <th>babynysiis</th>\n",
              "      <th>perc_female</th>\n",
              "      <th>perc_male</th>\n",
              "      <th>gender</th>\n",
              "    </tr>\n",
              "  </thead>\n",
              "  <tbody>\n",
              "    <tr>\n",
              "      <th>0</th>\n",
              "      <td>NaN</td>\n",
              "      <td>62.50</td>\n",
              "      <td>37.50</td>\n",
              "      <td>F</td>\n",
              "    </tr>\n",
              "    <tr>\n",
              "      <th>1</th>\n",
              "      <td>RAX</td>\n",
              "      <td>63.64</td>\n",
              "      <td>36.36</td>\n",
              "      <td>F</td>\n",
              "    </tr>\n",
              "    <tr>\n",
              "      <th>2</th>\n",
              "      <td>ESAR</td>\n",
              "      <td>44.44</td>\n",
              "      <td>55.56</td>\n",
              "      <td>M</td>\n",
              "    </tr>\n",
              "    <tr>\n",
              "      <th>3</th>\n",
              "      <td>DJANG</td>\n",
              "      <td>0.00</td>\n",
              "      <td>100.00</td>\n",
              "      <td>M</td>\n",
              "    </tr>\n",
              "    <tr>\n",
              "      <th>4</th>\n",
              "      <td>PARCAL</td>\n",
              "      <td>25.00</td>\n",
              "      <td>75.00</td>\n",
              "      <td>M</td>\n",
              "    </tr>\n",
              "  </tbody>\n",
              "</table>\n",
              "</div>"
            ],
            "text/plain": [
              "  babynysiis  perc_female  perc_male gender\n",
              "0        NaN        62.50      37.50      F\n",
              "1        RAX        63.64      36.36      F\n",
              "2       ESAR        44.44      55.56      M\n",
              "3      DJANG         0.00     100.00      M\n",
              "4     PARCAL        25.00      75.00      M"
            ]
          },
          "metadata": {
            "tags": []
          },
          "execution_count": 14
        }
      ]
    },
    {
      "cell_type": "markdown",
      "metadata": {
        "id": "nTZScJS5xSwN"
      },
      "source": [
        "<h3>5.</h3>"
      ]
    },
    {
      "cell_type": "code",
      "metadata": {
        "colab": {
          "base_uri": "https://localhost:8080/"
        },
        "id": "e4YkLr52xM6Q",
        "outputId": "a0553d8d-dc4d-4cce-9882-bff0964854b3"
      },
      "source": [
        "# This function returns the location of an element in a_list.\n",
        "# Where an item does not exist, it returns -1.\n",
        "def locate_in_list(a_list, element):\n",
        "    loc_of_name = a_list.index(element) if element in a_list else -1\n",
        "    return(loc_of_name)\n",
        "\n",
        "# Looping through author_df['nysiis_name'] and appending the gender of each\n",
        "# author to author_gender.\n",
        "author_gender = []\n",
        "for name in author_df['nysiis_name']:\n",
        "    nloc = locate_in_list(list(babies_df['babynysiis']), name)\n",
        "    if nloc == -1:\n",
        "        author_gender.append('Unknown')\n",
        "    else:\n",
        "        author_gender.append(babies_df['gender'][nloc])\n",
        "\n",
        "# Adding author_gender to the author_df\n",
        "author_df['author_gender'] = author_gender\n",
        "\n",
        "# Counting the author's genders\n",
        "print(author_df['author_gender'].value_counts())"
      ],
      "execution_count": 16,
      "outputs": [
        {
          "output_type": "stream",
          "text": [
            "F          395\n",
            "M          191\n",
            "Unknown      9\n",
            "N            8\n",
            "Name: author_gender, dtype: int64\n"
          ],
          "name": "stdout"
        }
      ]
    },
    {
      "cell_type": "markdown",
      "metadata": {
        "id": "jgm1nTclxcEQ"
      },
      "source": [
        "<h3>6.</h3>"
      ]
    },
    {
      "cell_type": "code",
      "metadata": {
        "colab": {
          "base_uri": "https://localhost:8080/"
        },
        "id": "nX7vI350xXXY",
        "outputId": "f94038a2-e90d-4923-9d55-076c91d955b4"
      },
      "source": [
        "# Creating a list of unique years, sorted in ascending order.\n",
        "years = sorted(author_df.Year.unique())\n",
        "\n",
        "# Initializing lists\n",
        "males_by_yr = []\n",
        "females_by_yr = []\n",
        "unknown_by_yr = []\n",
        "\n",
        "# Looping through years to find the number of male, female and unknown authors per year\n",
        "for year in years:\n",
        "    males_by_yr.append(len(author_df[(author_df['author_gender']=='M') & (author_df['Year']==year)]))\n",
        "    females_by_yr.append(len(author_df[(author_df['author_gender']=='F') & (author_df['Year']==year)]))\n",
        "    unknown_by_yr.append(len(author_df[(author_df['author_gender']=='Unknown') & (author_df['Year']==year)]))\n",
        "    \n",
        "# Printing out yearly values to examine changes over time\n",
        "print(males_by_yr)"
      ],
      "execution_count": 17,
      "outputs": [
        {
          "output_type": "stream",
          "text": [
            "[8, 19, 27, 21, 21, 11, 21, 18, 25, 20]\n"
          ],
          "name": "stdout"
        }
      ]
    },
    {
      "cell_type": "markdown",
      "metadata": {
        "id": "vcmiLSk6xltL"
      },
      "source": [
        "7."
      ]
    },
    {
      "cell_type": "code",
      "metadata": {
        "colab": {
          "base_uri": "https://localhost:8080/",
          "height": 313
        },
        "id": "rXrEWFX2xjCf",
        "outputId": "da34cf7f-10f3-4f34-df47-fd8820e78127"
      },
      "source": [
        "# Plotting the bar chart\n",
        "plt.bar(years, unknown_by_yr)\n",
        "\n",
        "# [OPTIONAL] - Setting a title, and axes labels\n",
        "plt.title('unknown gender by year')\n",
        "plt.xlabel('years')"
      ],
      "execution_count": 19,
      "outputs": [
        {
          "output_type": "execute_result",
          "data": {
            "text/plain": [
              "Text(0.5, 0, 'years')"
            ]
          },
          "metadata": {
            "tags": []
          },
          "execution_count": 19
        },
        {
          "output_type": "display_data",
          "data": {
            "image/png": "[encoded data removed]",
            "text/plain": [
              "<Figure size 432x288 with 1 Axes>"
            ]
          },
          "metadata": {
            "tags": [],
            "needs_background": "light"
          }
        }
      ]
    },
    {
      "cell_type": "markdown",
      "metadata": {
        "id": "OdLqtBmTxyNm"
      },
      "source": [
        "<h3>8.</h3>"
      ]
    },
    {
      "cell_type": "code",
      "metadata": {
        "colab": {
          "base_uri": "https://localhost:8080/",
          "height": 279
        },
        "id": "bruZPdePxwOp",
        "outputId": "d96cc5b8-d8aa-4968-a7a2-5365205a97eb"
      },
      "source": [
        "# Creating a new list, where 0.25 is added to each year\n",
        "years_shifted = list(np.array(years) + 0.25)\n",
        "\n",
        "# Plotting males_by_yr by year\n",
        "plt.bar(years_shifted, males_by_yr, width=0.25, color='lightblue')\n",
        "\n",
        "# Plotting females_by_yr by years_shifted\n",
        "plt.bar(years, females_by_yr, width=0.25, color='pink')\n",
        "\n",
        "# [OPTIONAL] - Adding relevant Axes labels and Chart Title\n",
        "plt.xlabel('years')\n",
        "\n",
        "plt.show()"
      ],
      "execution_count": 21,
      "outputs": [
        {
          "output_type": "display_data",
          "data": {
            "image/png": "[encoded data removed]",
            "text/plain": [
              "<Figure size 432x288 with 1 Axes>"
            ]
          },
          "metadata": {
            "tags": [],
            "needs_background": "light"
          }
        }
      ]
    }
  ]
}
